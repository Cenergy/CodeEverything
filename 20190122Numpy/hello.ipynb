{
 "cells": [
  {
   "cell_type": "code",
   "execution_count": 1,
   "metadata": {
    "collapsed": true
   },
   "outputs": [],
   "source": [
    "from  sklearn import datasets\n",
    "import numpy as np\n"
   ]
  },
  {
   "cell_type": "code",
   "execution_count": 3,
   "metadata": {},
   "outputs": [
    {
     "data": {
      "text/plain": [
       "array([ 11,  72, 127,  76,  42,  31,   2,  48, 145,  20,  43, 116,  46,\n        93,  83,  29, 100,  58,  78,  27,  91,  82,  49,  36,  69,  47,\n        88,  57,  73,   9,  16, 101,  64,  84,  12,   0,   7, 149,  98,\n        87, 130,  41,  18,  97,  33,  24, 125,  66,  50,  59, 102,  52,\n        70, 134, 113,  60, 147,   8, 106, 107, 126,  86,  19, 118,  10,\n        74,  14,   4, 117, 139,  17, 124,  13,  62,  94,  90,  45,  96,\n        37, 137,   1,  67,  30, 115,  92,  51, 111,  79, 114, 143, 146,\n       112,  56,  53, 141, 110, 136,  22, 133,   3, 122,  25,  63, 119,\n       140,  77,  89, 132,  44, 105,  34, 138,  23,   5,  55,  99,  21,\n       142,  80,  54,  61,  32,  95,  40,  39,   6,  26,  71,  15, 120,\n       131, 128, 135,  28,  75, 121, 108, 129,  68, 109, 123, 148,  38,\n        65,  81, 144, 103,  85,  35, 104])"
      ]
     },
     "execution_count": 3,
     "metadata": {},
     "output_type": "execute_result"
    }
   ],
   "source": [
    "iris=datasets.load_iris()\n",
    "X=iris.data\n",
    "y=iris.target\n",
    "shuffle_indexes=np.random.permutation(len(X))\n",
    "shuffle_indexes"
   ]
  },
  {
   "cell_type": "code",
   "execution_count": 4,
   "metadata": {},
   "outputs": [
    {
     "data": {
      "text/plain": [
       "30"
      ]
     },
     "execution_count": 4,
     "metadata": {},
     "output_type": "execute_result"
    }
   ],
   "source": [
    "test_ratio=0.2\n",
    "test_size=int(test_ratio*len(X))\n",
    "test_size"
   ]
  },
  {
   "cell_type": "code",
   "execution_count": 5,
   "metadata": {},
   "outputs": [
    {
     "data": {
      "text/plain": [
       "array([ 11,  72, 127,  76,  42,  31,   2,  48, 145,  20,  43, 116,  46,\n        93,  83,  29, 100,  58,  78,  27,  91,  82,  49,  36,  69,  47,\n        88,  57,  73,   9])"
      ]
     },
     "execution_count": 5,
     "metadata": {},
     "output_type": "execute_result"
    }
   ],
   "source": [
    "test_indexes=shuffle_indexes[:test_size]\n",
    "test_indexes"
   ]
  },
  {
   "cell_type": "code",
   "execution_count": 6,
   "metadata": {},
   "outputs": [
    {
     "data": {
      "text/plain": [
       "array([ 16, 101,  64,  84,  12,   0,   7, 149,  98,  87, 130,  41,  18,\n        97,  33,  24, 125,  66,  50,  59, 102,  52,  70, 134, 113,  60,\n       147,   8, 106, 107, 126,  86,  19, 118,  10,  74,  14,   4, 117,\n       139,  17, 124,  13,  62,  94,  90,  45,  96,  37, 137,   1,  67,\n        30, 115,  92,  51, 111,  79, 114, 143, 146, 112,  56,  53, 141,\n       110, 136,  22, 133,   3, 122,  25,  63, 119, 140,  77,  89, 132,\n        44, 105,  34, 138,  23,   5,  55,  99,  21, 142,  80,  54,  61,\n        32,  95,  40,  39,   6,  26,  71,  15, 120, 131, 128, 135,  28,\n        75, 121, 108, 129,  68, 109, 123, 148,  38,  65,  81, 144, 103,\n        85,  35, 104])"
      ]
     },
     "execution_count": 6,
     "metadata": {},
     "output_type": "execute_result"
    }
   ],
   "source": [
    "train_indexes=shuffle_indexes[test_size:]\n",
    "train_indexes"
   ]
  },
  {
   "cell_type": "code",
   "execution_count": 8,
   "metadata": {},
   "outputs": [],
   "source": [
    "X_train=X[train_indexes]\n",
    "y_train=y[train_indexes]\n"
   ]
  },
  {
   "cell_type": "code",
   "execution_count": null,
   "metadata": {},
   "outputs": [],
   "source": [
    "X_test=X[test_indexes]\n",
    "y_test=y[test_indexes]"
   ]
  }
 ],
 "metadata": {
  "kernelspec": {
   "display_name": "Python 2",
   "language": "python",
   "name": "python2"
  },
  "language_info": {
   "codemirror_mode": {
    "name": "ipython",
    "version": 2
   },
   "file_extension": ".py",
   "mimetype": "text/x-python",
   "name": "python",
   "nbconvert_exporter": "python",
   "pygments_lexer": "ipython2",
   "version": "2.7.6"
  }
 },
 "nbformat": 4,
 "nbformat_minor": 0
}
